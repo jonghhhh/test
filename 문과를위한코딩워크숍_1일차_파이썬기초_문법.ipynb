{
  "nbformat": 4,
  "nbformat_minor": 0,
  "metadata": {
    "colab": {
      "provenance": []
    },
    "kernelspec": {
      "name": "python3",
      "display_name": "Python 3"
    },
    "language_info": {
      "name": "python"
    }
  },
  "cells": [
    {
      "cell_type": "markdown",
      "source": [
        "\n",
        "# **Google Colab 개발 환경 설정**\n",
        "### (여긴 텍스트 셀)\n",
        "\n",
        "*   'Google Colaboratory' 줄임말\n",
        "\n",
        "*   Google Colab 접속하여 Python 코딩을 연습(로컬 컴퓨터에 설치필요없음)\n",
        "\n",
        "*   다양한 라이브러리 기본적으로 설치되어 있음(예, 판다스 , 텐서플로우 , 케라스 , 맷플롯립 , 사이킷런 등)\n",
        "\n",
        "*   Google Drive 연동하여 작업 폴더 생성 및 작업파일 관리 용이(별도의 로컬 저장소 필요없음)\n",
        "\n",
        "*   MyDrive 안에 mypython이라는 작업 폴더를 만들어 작업 파일을 저장\n",
        "\n",
        "*   다운로드받은 .ipynb 파일을 이 폴더에 업로드하여 실습을 진행\n"
      ],
      "metadata": {
        "id": "FFMPRpuuOBPn"
      }
    },
    {
      "cell_type": "code",
      "execution_count": null,
      "metadata": {
        "colab": {
          "base_uri": "https://localhost:8080/"
        },
        "id": "EqADPu6iNwLb",
        "outputId": "76f48a23-62bf-4f68-fb31-e90eedb1da6f"
      },
      "outputs": [
        {
          "output_type": "stream",
          "name": "stdout",
          "text": [
            "Mounted at /content/drive\n"
          ]
        }
      ],
      "source": [
        "#(여긴 코드셀)\n",
        "# \"#\" 해시 기호로 시작되는 문장은 주석처리되고 코드 실행할때 무시됨\n",
        "# Google Drive 연동(마운팅) 코드\n",
        "\n",
        "from google.colab import drive\n",
        "drive.mount('/content/drive')"
      ]
    },
    {
      "cell_type": "markdown",
      "source": [
        "# **파이썬 기초(Python Basic)**\n",
        "\n",
        "*   고대 그리스 신화에 등장하는 거대한 뱀\n",
        "\n",
        "*   전세계적으로 가장 널리 사용되는 프로그래밍언어(웹개발, 빅데이터 분석과 시각화, 머신러닝과 딥러닝 도구 등)\n",
        "\n",
        "*   1990년 귀도 반 로섬이 개발\n",
        "\n",
        "*   코미디쇼 <Monty Python's Flying Circus>에서 이름을 따옴\n",
        "\n",
        "*   객체지향 프로그래밍(object orient programing)을 지원하는 언어\n",
        "\n",
        "*   인터프리터 프로그래밍 언어(cf. 컴파일러 언어) - 바로 프로그램 실행\n",
        "\n",
        "*   대화형으로 명령어 코드를 입력하고 실행시 결과를 바로 확인 가능. 스크립트 언어라고도 함\n",
        "\n",
        "*   보통 에디터 프로그램(Editor)와 실행기(Interpreter)프로그램을 통해 프로그래밍함\n",
        "\n",
        "*   **Google Colab**은 에디터와 인터프리터 기능을 결합한 **클라우드 기반 개발 환경**\n",
        "\n",
        "*   로컬에서 쥬피터노트북, 파이참, 비주얼 스튜디오코드과 같은 에디터 사용가능\n",
        "\n",
        "*   간결하고 읽기쉬운 문법과 다양한 라이브러리와 모듈을 제공(예, Requests, BeautifulSoup, TensorFlow, Pytorch, Pandas, Numpy, Matplotib 등)\n",
        "\n",
        "*   상대적으로 느린 실행속도(**그러나 문과에겐 매우 충분^^**)\n",
        "\n",
        "*   이번 **동계 워크숍**에서 다를 기초 문법은 자료형 중 **문자열에서 리스트까지**, 제어문(if, while, for문) 중 **if문과 for문**을 학습함\n",
        "*   DATAQUEST가 제공하는 Python Cheat Sheet for Data Science: Basics(https://www.dataquest.io/blog/python-cheat-sheet/) 참고\n",
        "\n",
        "*   점프 투 파이썬 참고: 위키독스에서 무료로 제공(https://wikidocs.net/book/1)"
      ],
      "metadata": {
        "id": "iGVHkQ6jPG7x"
      }
    },
    {
      "cell_type": "markdown",
      "source": [
        "## 파이썬 코드 작성 원리\n",
        "\n",
        "*   코딩 원리: **객체.함수(인자)** -> 특정 자료(객체)에 대해 변화를 가할때(함수), 추가정보(인자)로 고려해서 동작을 수행하라는 것).\n",
        "\n",
        "*   코드의 구성 요소: 객체(object), 함수(function), 인자(argument)\n",
        "\n",
        "*   객체: 데이터를 저장할 수 있는 변수와 같은 개념 - 객체에 특정 내용을 담아 생성(컴퓨터에 특정공간이 점유됨)\n",
        "\n",
        "*   함수: 객체안의 데이터에 대해 특정 동작을 수행 (예, print(a) - a 객체를 '출력' 하는 함수)\n",
        "\n",
        "*   인자: 함수가 동작할 때 필요한 추가정보 혹은 특정조건(예, text.split(\" \") 코드에서 \" \" 는 split 함수에 전달된 인자이고, text 객체의 문자열 데이터에 대한 동작을 수행할때, 공백을 기준으로 문자열을 분리하라는 추가정보)\n",
        "\n",
        "*   파이썬에 미리 정의된 여러 내장 함수(예, print(), len(), type())는 객체의 선행 없이 사용 가능.\n",
        "\n",
        "* 주석(Comments): 코드 내에서 설명이나 메모를 입력하고 싶을 때 사용\n",
        "\n",
        "* \"#\" 해시 기호로 시작되는 문장은 주석처리되고 코드 실행할때 무시됨\n",
        "\n"
      ],
      "metadata": {
        "id": "CMrUa8fQQFIU"
      }
    },
    {
      "cell_type": "markdown",
      "source": [
        "### 코드셀 실행 단축키\n",
        "\n",
        "* 전체 코드셀 실행 단축키는 Ctrl + Enter\n",
        "* 부분실행은 Ctrl + Shift + Enter\n",
        "* 실행전(undo) Ctrl  + Z\n",
        "* 저장은 Ctrl + S\n",
        "* '#' 해시태그는 Ctrl + /\n",
        "* 코딩할때 이상하게 입력되는 것 같으면, 모니터 하단에 [한]으로 되어 있는지 확인: [한]이 정상"
      ],
      "metadata": {
        "id": "fXEXsIz_fsF3"
      }
    },
    {
      "cell_type": "markdown",
      "source": [
        "#### 예제 1"
      ],
      "metadata": {
        "id": "PKyIpBotUdE-"
      }
    },
    {
      "cell_type": "code",
      "source": [
        "# 예제 1: 코딩 원리: 객체.함수(인자)\n",
        "# 1, \"뉴진스는 대한민국 5인조 걸그룹이다.\" 문자열을 text 변수에 할당하여 출력하라\n",
        "\n",
        "text = \"뉴진스는 대한민국 5인조 걸그룹이다.\"\n",
        "print(text)\n",
        "\n",
        "# 2, text에 할당된 문자열을 \"공백을 기준으로\"(조건) 나누고 그 변형된 자료형을 text_split 변수에 다시 할당하고 출력하라\n",
        "\n",
        "text = \"뉴진스는 대한민국 5인조 걸그룹이다.\"\n",
        "text_split = text.split(\" \")\n",
        "print(text_split)\n",
        "\n",
        "# 3. 처음 할당된 text 변수를 부분실행하면?"
      ],
      "metadata": {
        "id": "FAkcDJQgPGg8"
      },
      "execution_count": null,
      "outputs": []
    },
    {
      "cell_type": "markdown",
      "source": [
        "### 객체 생성과 다양한 자료의 유형\n",
        "\n",
        "*   객체 생성\n",
        "\n",
        "*   변수에 객체(값)을 할당\n",
        "\n",
        "*   자료: 파이썬에서 처리하는 모든 것(예, 1, \"1\")\n",
        "\n",
        "*   객체의 자료는 다양한 유형으로 존재함\n",
        "\n",
        "*   문자형이냐, 숫자형이냐 변수냐에 따라 결과값 달라짐\n",
        "\n",
        "*   type() 함수를 통해 확인 가능\n",
        "\n",
        "*   기본자료형: 문자열, 숫자형, 불(boolean)\n",
        "\n",
        "*   복합자료형: 리스트, 사전, 튜플, 집합"
      ],
      "metadata": {
        "id": "IKg_LB_vSN9a"
      }
    },
    {
      "cell_type": "code",
      "source": [
        "# <객체 생성> (Instantiation)\n",
        "# 세상 없던 것을 만들어서 컴퓨터 공간위에 올려 놓는 것\n",
        "# 객체는 메모리 상의 실체\n",
        "# 객체 생성에 변수가 꼭 필요한 것은 아님\n",
        "\n",
        "1\n",
        "1 + 1\n",
        "\n",
        "\n",
        "# 객체생성? 변수명이므로 객체로 생성이 안됨\n",
        "# 변수는 자료형이 아님(예, \"a\" 문자열 자료형은 객체로 생성가능)\n",
        "a   # 실행하면 에러!\n",
        "\"a\" # 실행하면 객체로 생성\n",
        "\n",
        "# 파이썬에서 변수만 따로 선언만 하는 방식은 없음.\n",
        "# 값(객체)를 먼저 생성하고  변수를 선언해야함\n",
        "\n",
        "# <변수 선언> (Declaration)\n",
        "# 변수는 객체를 가리키는 이름일 뿐!\n",
        "\n",
        "# <변수 선언과 함께 동시에 값을 할당>\n",
        "a = 2 # '=' 할당기호: 2라는 객체가 먼저 생성되고, 그 다음에 변수 a가 그 객체를 참조 ( '==' 같은 연산자 기호와는 와는 다름)\n",
        "print(a)\n",
        "\n",
        "\n",
        "b == 3 # 이것만 먼저 실행하면 오류...왜?\n",
        "# 변수 b가 선언되기 이전에 객체가 생성되어 있지 않았기 때문! (예, b = 2)\n",
        "\n",
        "\n",
        "# b = 2 하고 b == 3 실행하면..false\n",
        "b = 2\n",
        "b == 3 #a에 할당된 값이 3과 같니?\n",
        "\n",
        "\n",
        "3 == 3\n",
        "3 > 3\n",
        "\n"
      ],
      "metadata": {
        "id": "BFa5eh7sR9Ep"
      },
      "execution_count": null,
      "outputs": []
    },
    {
      "cell_type": "markdown",
      "source": [
        "#### 예제 2"
      ],
      "metadata": {
        "id": "Z5BU5UaVUkAy"
      }
    },
    {
      "cell_type": "code",
      "source": [
        "# \"뉴진스는 대한민국 5인조 걸그룹이다. 뉴진스는 영원하라.\"라는 문자열을 생성시켜 text라는 변수에 할당해라\n",
        "\n",
        "text= \"뉴진스는 대한민국 5인조 걸그룹이다. 뉴진스는 영원하라.\" #\"자료의 앞뒤에 따옴표 > 문자열 자료형\"\n",
        "\n",
        "# 공백 한 칸을 기준으로 위의 문자열을 나누어라\n",
        "text.split(\" \")\n",
        "\n",
        "# 숫자 5를 기준으로 위의 문자열을 나누어라\n",
        "text.split(\"5\")\n",
        "\n",
        "#윗 문자열에서 문자열인 \"뉴진스\"의 갯수를 출력하라\n",
        "text.count(\"뉴진스\")\n",
        "\n",
        "# 기본적인 파이 내장함수 - 직관적이나 <코딩 작성원리>에는 어긋\n",
        "\n",
        "print(text) #출력 함수\n",
        "type(text) #자료형 확인함수\n",
        "len(text)  #자료형 길이 확인함수\n",
        "round(3.5678, 2) #반올림 함수"
      ],
      "metadata": {
        "id": "VkxJxzx_UZXk"
      },
      "execution_count": null,
      "outputs": []
    },
    {
      "cell_type": "markdown",
      "source": [
        "# 파이썬  기초 문법: 자료형과 제어문\n",
        "\n",
        "* 자료형: **문자열, 숫자, 불(bool), 리스트**, 튜플, 사전(dictionary), 집합\n",
        "* 기초문법: 내장함수 활용하는 것과 자료 요소를 인덱싱(가리키기)과 슬라이싱(잘라내기) 등\n",
        "* 리스트 문법: 빈 리스트 생성, 리스트 안의 요소 추가하기, 요소 삭제하기, 요소 변형하기, 리스트 요소의 합, 최솟값, 최댓값, 평균 구하기, 리스트컴프리헨션(리스트재구성)),\n",
        "* 제어문: 특정조건에 따라 코드의 실행경로를 결정하는 문\n",
        "* 대표적인 제어문: **if- else 문, for문**, while 문,\n",
        "* **아쉽게도** 함수와 클래스는 이번 워크숍에서 다루지 않음\n"
      ],
      "metadata": {
        "id": "ibQY3epTYhlJ"
      }
    },
    {
      "cell_type": "markdown",
      "source": [
        "## 문자열(Strings)\n",
        "\n",
        "*   문자 또는 단어로 구성된 문자들의 집합(=텍스트)\n",
        "\n",
        "*   예) 'Hello', 'KHU', 'NewJeans', 'DHL', ...\n",
        "\n",
        "*   큰 따옴표나 작은 따옴표로 앞뒤로 입력해서 감싸줘야 함(앞뒤가 같아야함)\n",
        "\n",
        "*   여러 줄에 걸친 문자열은 큰 따옴표나 작은 따옴표 연속 3개(''')로 맨 앞과 맨 뒤를 감싸줘야 함\n",
        "\n",
        "*   긴 문장의 줄바꿈 처리를 위해 코드인 \\n(==역슬래쉬n)을 입력"
      ],
      "metadata": {
        "id": "8A7sh7gNd3qo"
      }
    },
    {
      "cell_type": "code",
      "source": [
        "# s라는 변수에 \"안녕하세요\"라는 문자열 할당(큰따옴표? 작은따옴표?)\n",
        "s = \"안녕하세요\"\n",
        "print(s)\n",
        "\n",
        "# s_1 라는 변수에 '뉴진스가 \"안녕하세요\"라고 인사했다'라는 문자열 할당\n",
        "s_1 = '뉴진스가 \"안녕하세요\"라고 인사했다'\n",
        "print(s_1)\n",
        "\n",
        "# 문자열 자료가 두 줄 이상이면 따옴표 연속 3개를 앞뒤로 삽입\n",
        "# docstring(document string): 몇줄에 걸친 문자열\n",
        "s_2 = '''I don't know what we've done\n",
        "되돌아가긴 싫어, もう知っている\n",
        "Don't know what we've been sold\n",
        "見つけられるよ, so it's sure (come on)\n",
        "'''\n",
        "print(s_2)  # 줄바꿈 표시(\\n) 없게 해주는게 print 함수\n"
      ],
      "metadata": {
        "id": "FHM-kcWCbo2O"
      },
      "execution_count": null,
      "outputs": []
    },
    {
      "cell_type": "markdown",
      "source": [
        "### 문자열 포맷팅\n",
        "*   포매팅(Formatting): 데이터를 특정한 형식이나 구조로 변환하거나 배치하는 작업\n",
        "\n",
        "*   문자열 포매팅: 문자열 안에 내가 원하는 특정 데이터(값)를 삽입하기> 3개의 방법\n",
        "\n",
        "*   format() 함수사용하기\n",
        "\n",
        "*   포맷코드 사용하기: %s(문자열), %d(정수), %f(실수) 등\n",
        "\n",
        "*   **f-string(f 문자) 사용하기(매우간단)**"
      ],
      "metadata": {
        "id": "ScF-Zh2yfV7p"
      }
    },
    {
      "cell_type": "code",
      "source": [
        "# f-string 문자열 포매팅 방법이 대세\n",
        "# Python 3.6부터부터 도입된 문자열 포매팅 방식 중 하나\n",
        "# 문자열 내에서 중괄호 {}를 사용하여 변수나 표현식을 삽입할 수 있는 기능\n",
        "\n",
        "s_3 = '하니가 \"사랑해요!\" 라고 인사했다'\n",
        "print(s_3)\n",
        "\n",
        "# 예제: (1) '하니가 \"사랑해요!\" 라고 인사했다' --> (2) '민지가 \"I love you\" 라고 인사했다 --> 계속\n",
        "a = \"하니\"\n",
        "b = \"사랑해요!\"\n",
        "\n",
        "# f-string을 사용한 문자열 포매팅\n",
        "s_4 =f'{a}가 \"{b}\"라고 인사했다'\n",
        "print(s_4)\n"
      ],
      "metadata": {
        "id": "oLC4gorWcdlV"
      },
      "execution_count": null,
      "outputs": []
    },
    {
      "cell_type": "markdown",
      "source": [
        "### 문자열 연산\n",
        "* 덧셈과 곱셈 가능(문자열 이어붙이기와 반복해서 입력하기)"
      ],
      "metadata": {
        "id": "JhajHNTwAlK9"
      }
    },
    {
      "cell_type": "code",
      "source": [
        "# 문자열을 a, b 변수에 할당해서 이어붙이기\n",
        "a = \"안녕하세요\"\n",
        "b = \"뉴진스입니다\"\n",
        "\n",
        "#문자열 이어붙이기\n",
        "a+b\n",
        "\n",
        "# 두 문자열 사이에 띄어 이어 붙이려면?\n",
        "a + \" \" + b\n",
        "\n",
        "#문자열 반복 입력하기\n",
        "a*2\n",
        "a*100"
      ],
      "metadata": {
        "id": "ja5P97U2Aong"
      },
      "execution_count": null,
      "outputs": []
    },
    {
      "cell_type": "markdown",
      "source": [
        "### 문자열 인덱싱과 슬라이싱\n",
        "\n",
        "*   대괄호[ ]를 사용해 특정 요소(들)을 가리키고 잘라내기\n",
        "\n",
        "    **\"파이썬은 0부터 숫자를 센다\"**\n",
        "\n",
        "*   인덱싱: 문자열을 나열했을 때 각 문자의 위치에 번호를 매겨 특정한 값을 뽑아낼때 사용(예, text[3])\n",
        "\n",
        "*   슬라이싱: 문자열의 문자들의 범위를 추출할 때 사용(예, [a:b:c] = a이상 b미만 까지 c간격으로 추출, [1:4]는?)\n"
      ],
      "metadata": {
        "id": "LZ9nCVgphzm0"
      }
    },
    {
      "cell_type": "code",
      "source": [
        "# 1. 문자열 인덱싱: 가리키기\n",
        "b = 'KHU'\n",
        "print(b[0])\n",
        "\n",
        "# docstring 문자열 예제\n",
        "s_2 = '''I don't know what we've done\n",
        "되돌아가긴 싫어, もう知っている\n",
        "Don't know what we've been sold\n",
        "見つけられるよ, so it's sure (come on)\n",
        "'''\n",
        "# s_2 문자열의 첫 번째 문자를 가리키기\n",
        "s_2[0]\n",
        "\n",
        "# s_2 문자열의 두 번째 문자 가리키기 (공백 예상)\n",
        "s_2[1]\n",
        "\n",
        "# s_2 문자열의 마지막 문자를 가리키기(줄바꿈기호 예상)\n",
        "s_2[-1]\n",
        "\n",
        "# s_2 문자열의 단어 길이 구하기\n",
        "len(s_2) #111 단어들(공백포함) 요소\n",
        "\n",
        "# 처음부터 4번째까지 잘라내기\n",
        "s_2[0]+s_2[1]+s_2[2]+s_2[3]\n",
        "\n",
        "# 2. 문자열 슬라이싱: 잘라내기\n",
        "s_2[0:4]  # 0 이상부터 4 미만까지 잘라내기\n",
        "s_2[:10]  # 0 이상부터 10 미만까지 잘라내기\n"
      ],
      "metadata": {
        "id": "WKOvPYsniA-D"
      },
      "execution_count": null,
      "outputs": []
    },
    {
      "cell_type": "markdown",
      "source": [
        "### 알아야할 중요 문자열 관련 내장함수\n",
        "\n",
        "*   strip(), replace(), split(), join()"
      ],
      "metadata": {
        "id": "xQERT7jykrvg"
      }
    },
    {
      "cell_type": "code",
      "source": [
        "s_2 = '''I don't know what we've done\n",
        "되돌아가긴 싫어, もう知っている\n",
        "Don't know what we've been sold\n",
        "見つけられるよ, so it's sure (come on)\n",
        "'''\n",
        "#(0) s_2 변수에 할당된 문자열 확인\n",
        "s_2\n",
        "\n",
        "#(1) strip: 양쪽 공백 지우기\n",
        "s_2.strip() # s_2 문자열의 양쪽 끝은?\n",
        "\n",
        "#(2) replace: 문자열 안의 특정한 값을 다른 값으로 바꾸기: 모든 we를 I로 바꾸기.\n",
        "s_2.replace(\"\\n\", \" \") # 생각보다 매우 유용함\n",
        "s_2.replace(\"we\", \"I\")\n",
        "\n",
        "#(3) s_2 변수에 할당된 문자열 다시 확인\n",
        "s_2 # 어??? s_2 바꾸었는데...변화가 없네?\n",
        "# 문자열은 immutable(불변) 자료형이기 때문에, 문자열을 직접 수정하는 함수 없음\n",
        "# 함수로 인해 문자열의 바뀐 상태로 계속 유지하려면 새로운 변수에 재할당 필요\n",
        "s_2_new = s_2.replace(\"we\", \"I\")\n",
        "\n",
        "#(4) split: 괄호 안의 값을 구분자를 기준으로 문자열을 나누어서 리스트 형태로 변화시키기\n",
        "s_2.split(\" \") #구분자는? \" \" -> 공백\n",
        "s_2_lst = s_2.split(\" \") #리스트 상태로 계속 유지하려면 새로운 변수에 재할당 필요\n",
        "\n",
        "#(5) join: 각 문자 사이에 특정 기호(문자) 삽입하여 다시 합치라는 함수\n",
        "# 코딩원리에 어긋남\n",
        "# 문자열, 리스트, 튜플, 집합의 구성요소가 문자열일때만 적용가능\n",
        "\"/\".join(s_2)\n"
      ],
      "metadata": {
        "id": "b26bDG6Qkktx"
      },
      "execution_count": null,
      "outputs": []
    },
    {
      "cell_type": "markdown",
      "source": [
        "#### 예제 3"
      ],
      "metadata": {
        "id": "rx910KEfoOjd"
      }
    },
    {
      "cell_type": "code",
      "source": [
        "#Q1. 구분자를 \"\\n\"(줄바꿈기호) 구분자를 기준으로 s_2에 할당된 문자열을 나누어서 리스트 형태로 변화시키시오\n",
        "s_2.split(\"\\n\" )\n"
      ],
      "metadata": {
        "id": "9mb_FgAAoTf3"
      },
      "execution_count": null,
      "outputs": []
    },
    {
      "cell_type": "markdown",
      "source": [
        "#### 예제 4(집에서 해볼 것)"
      ],
      "metadata": {
        "id": "kCGmRbnXRj2F"
      }
    },
    {
      "cell_type": "code",
      "source": [
        "# split함수와 join함수가 중요(집에서 해볼 것)\n",
        "\n",
        "s_2 = '''I don't know what we've done\n",
        "되돌아가긴 싫어, もう知っている\n",
        "Don't know what we've been sold\n",
        "見つけられるよ, so it's sure (come on)\n",
        "'''\n",
        "\n",
        "# 공백을 기준으로 문자열을 열어 단어단위로 분리하고 그결과를  리스트로 저장\n",
        "s_2_lst = s_2.split(\" \") #Colab 환경에서는 s_long_lst를 부분실행하면,  리스트가 길 경우, 이를  여러 줄로 나누어 출력하여 가독성을 높입\n",
        "print(s_2_lst) #리스트를 리스트를 한 줄로 출력하며, 요소들 사이에 쉼표와 공백이 포함되어 출력\n",
        "\n",
        "# 리스트를 다시 문자열로 변환\n",
        "s_2_rev = \" \".join(s_2_lst)\n",
        "print(s_2_rev)"
      ],
      "metadata": {
        "id": "umbhicDnp8VK"
      },
      "execution_count": null,
      "outputs": []
    },
    {
      "cell_type": "markdown",
      "source": [
        " ## 숫자(numeric)\n",
        "\n",
        "\n",
        "*   숫자 형태로 이루어진 자료형\n",
        "\n",
        "*   예: 1, 2, 3, 3,14, ...\n",
        "\n",
        "*   정수형(Integer)와 실수형(Floating-point)으로 구성\n",
        "\n",
        "*   int, float 로 자료형 클래스를 각각 표현(type()으로 확인)\n",
        "\n",
        "*   숫자연산자: +, -, *, /, **, //, % 등 사용가능"
      ],
      "metadata": {
        "id": "fpT6OcLNq8Di"
      }
    },
    {
      "cell_type": "code",
      "source": [
        "# 변수 i에 5를 할당\n",
        "i = 5\n",
        "type(i)\n",
        "\n",
        "# 변수 i에 문자열 5를 할당\n",
        "i = \"5\"\n",
        "type(i)\n",
        "\n",
        "# interger(정수)의 줄임말. \"5\"(문자열)를 정수 5로 바꿔 i에 할당.\n",
        "i = int(\"5\")\n",
        "type(i)\n",
        "\n",
        "# float는'부동(浮動)소수점' 의미. 소수점 이하 자리가 이리 이리저리 '떠다니는(float)'모습과 같음. \"2.5\"(문자열)를 float로 바꿔 f에 할당\n",
        "f = float(\"2.5\")\n",
        "type(f)"
      ],
      "metadata": {
        "id": "O0mkiWIfrOK5"
      },
      "execution_count": null,
      "outputs": []
    },
    {
      "cell_type": "markdown",
      "source": [
        " ### 숫자 연산"
      ],
      "metadata": {
        "id": "Uaj_8sNXqozD"
      }
    },
    {
      "cell_type": "code",
      "source": [
        "5 + 5 # 더하기\n",
        "5 - 5 # 빼기\n",
        "10 / 2 # 나누기\n",
        "5 * 2 # 곱하기\n",
        "3 ** 2 # 3의 2제곱"
      ],
      "metadata": {
        "id": "Mz57mr5Drp1i"
      },
      "execution_count": null,
      "outputs": []
    },
    {
      "cell_type": "markdown",
      "source": [
        "### 본래 값에 일정량 더하기"
      ],
      "metadata": {
        "id": "HGEGT9r2r3R6"
      }
    },
    {
      "cell_type": "code",
      "source": [
        "x = 2\n",
        "x += 1      # x + 1을 x에 입력\n",
        "x"
      ],
      "metadata": {
        "id": "apT0Dywbr7UQ"
      },
      "execution_count": null,
      "outputs": []
    },
    {
      "cell_type": "markdown",
      "source": [
        "## 불(bool): 논리자료형\n",
        "\n",
        "* 참(True)과 거짓(False)을 나타내는 자료형\n",
        "* True와 False 2가지 값만 가짐 (파이썬 키워드) - 꼭 첫글자 대문자\n",
        "* 모든 조건문의 기반"
      ],
      "metadata": {
        "id": "5jM7ObjbsDt0"
      }
    },
    {
      "cell_type": "code",
      "source": [
        "2 > 1 # 2가 1보다 크니?(의문형으로 읽을 )\n",
        "type(2 > 1)  # 자료형 확인\n",
        "\n",
        "(2>1) and (0>1)\n",
        "(2>1) or (0>1)"
      ],
      "metadata": {
        "id": "SjTR9wkisA0W"
      },
      "execution_count": null,
      "outputs": []
    },
    {
      "cell_type": "code",
      "source": [
        "# in 구문\n",
        "a = \"안녕하세요. 뉴진스입니다\"\n",
        "\"뉴진스\" in a # \"뉴진스\"가 a에 있니? # in 다음에 문자열, 리스트, 튜플이 올수 있음\n",
        "\n",
        "# if 와 in 포함 구문 사용 예제\n",
        "if \"뉴진스\" in a:\n",
        "  print(\"뉴진스가 있습니다\")"
      ],
      "metadata": {
        "id": "rGu2WedFyj2d"
      },
      "execution_count": null,
      "outputs": []
    },
    {
      "cell_type": "markdown",
      "source": [
        "## 리스트(list)\n",
        "\n",
        "*   여러 개의 요소(문자열, 숫자 등)를 가지는 자료형\n",
        "*   예: ['a', 'b', 'c'], [1, 2, 3], ...\n",
        "*   리스트의 생성: 대괄호([ ])로 감싸 주고, 내부의 요소는 쉼표(,)로 구분"
      ],
      "metadata": {
        "id": "G-AHu1DJzOvA"
      }
    },
    {
      "cell_type": "code",
      "source": [
        "# 기본 예제\n",
        "c = [1, 2, 3]\n",
        "print(c)\n",
        "\n",
        "d = [4, 5, 6]\n",
        "print(d[0])"
      ],
      "metadata": {
        "id": "Z8F3a9OLR1g2"
      },
      "execution_count": null,
      "outputs": []
    },
    {
      "cell_type": "code",
      "source": [
        "#빈 리스트 생성하기\n",
        "#리스트에서 append()함수와 함께 매우 중요(lst_null = list()로도 가능)\n",
        "lst_null = []\n",
        "\n",
        "# 문자열을 요소를 가진 리스트\n",
        "lst_string = [\"하니\", \"해린\", \"민지\", \"혜인\", \"다니엘\"]\n",
        "lst_string2 = [\"베트남&호주\", \"한국\", \"한국\", \"한국\", \"호주\"]\n",
        "\n",
        "# 숫자로 이루어진 리스트\n",
        "lst_height = [162, 165, 169, 170, 165]\n",
        "lst_birth_year = [2004, 2006, 2004, 2008, 2005]\n",
        "\n",
        "# 불 자료형으로 이루어진 리스트\n",
        "lst_bool = [True, False, True, False]\n",
        "\n",
        "# 혼합 자료형으로 이루어진 리스트\n",
        "lst_mix = [\"하니\", \"해린\", 2004, 2006]\n",
        "\n",
        " # 리스트 안의 리스트\n",
        "lst_lst = [\"하니\", \"해린\", [162, 165]]"
      ],
      "metadata": {
        "id": "4C4BZTaczWlK"
      },
      "execution_count": null,
      "outputs": []
    },
    {
      "cell_type": "markdown",
      "source": [
        "### 리스트 연산\n",
        "\n",
        "* (문자열처럼) 이어붙이기와 반복해서 입력 가능"
      ],
      "metadata": {
        "id": "U6vIDJ5x0Jh1"
      }
    },
    {
      "cell_type": "code",
      "source": [
        "c + d\n",
        "lst_string + lst_height"
      ],
      "metadata": {
        "id": "yd2B__YlSVRG"
      },
      "execution_count": null,
      "outputs": []
    },
    {
      "cell_type": "markdown",
      "source": [
        "### 리스트 인덱싱과 슬라이싱\n",
        "\n",
        "*   리스트 인덱싱(indexing): 리스트의 각 요소는 인덱스를 통해 접근 가능(형식: 리스트이름[위치])\n",
        "\n",
        "*   요소의 위치는 0부터 시작\n",
        "\n",
        "*   리스트 슬라이싱(slicing): 리스트의 부분집합을 추출(형식: 리스트이름[start:end])"
      ],
      "metadata": {
        "id": "aLgIe9-G0bTD"
      }
    },
    {
      "cell_type": "code",
      "source": [
        "lst_string = [\"하니\", \"해린\", \"민지\", \"혜인\", \"다니엘\"]\n",
        "\n",
        " # lst_string 리스트의 2번째 요소 호출. 파이썬 문법에서 순서는 0부터 시작.\n",
        "lst_string[1]\n",
        "\n",
        "# lst_string 리스트의 마지막 요소 호출. -2는 마지막에서 두번째 요소를 가리킴.\n",
        "lst_string[-1]\n",
        "\n",
        " # lst_string 리스트에서 두번째에서 네번째 요소까지 3개 요소 호출.\n",
        "lst_string[1:4]\n",
        "\n",
        "# lst_string 리스트에서 네번째 요소부터 마지막 요소까지 호출.\n",
        "lst_string[3:]\n",
        "\n",
        "# len()함수:  리스트의 요소 갯수 구하기 (문자열 길이도 구할 수 있음)\n",
        "len(lst_string)"
      ],
      "metadata": {
        "id": "zS9aDYjj0WGA"
      },
      "execution_count": null,
      "outputs": []
    },
    {
      "cell_type": "markdown",
      "source": [
        "### 리스트 요소 수정하기와 삭제하기(가능!)\n",
        "\n",
        "*   리스트 인덱싱(indexing): 리스트의 각 요소는 인덱스를 통해 접근 가능(형식: 리스트이름[위치])\n",
        "\n",
        "*   요소의 위치는 0부터 시작\n",
        "\n",
        "*   리스트 슬라이싱(slicing): 리스트의 부분집합을 추출(형식: 리스트이름[start:end])"
      ],
      "metadata": {
        "id": "bXqy8qsT1Zb1"
      }
    },
    {
      "cell_type": "code",
      "source": [
        "lst_string = [\"하니\", \"해린\", \"민지\", \"혜인\", \"다니엘\"]\n",
        "\n",
        "# 다니엘을 민희진으로 교체\n",
        "# 재할당없이도 기존 리스트 변경됨(리스트는 mutable)\n",
        "\n",
        "lst_string[-1] = \"민희진\"\n",
        "print(lst_string)\n",
        "\n",
        "# remove()함수 사용가능\n",
        "lst_string.remove(\"민희진\")\n",
        "print(lst_string)\n",
        "\n",
        "# 코딩규칙에 어긋나는 del + 객체\n",
        "del lst_string[1]\n",
        "print(lst_string)"
      ],
      "metadata": {
        "id": "mwSElV_y1hF_"
      },
      "execution_count": null,
      "outputs": []
    },
    {
      "cell_type": "markdown",
      "source": [
        "### 리스트 요소 합, 최솟값, 최댓값, 평균 구하기\n",
        "* 숫자형 요소들인 경우 가능"
      ],
      "metadata": {
        "id": "0OoY5KzX2ya6"
      }
    },
    {
      "cell_type": "code",
      "source": [
        "lst_numeric = [0, 1, 2, 3, 4]\n",
        "\n",
        "sum(lst_numeric)\n",
        "min(lst_numeric)\n",
        "max(lst_numeric)\n",
        "sum(lst_numeric) / len(lst_numeric)  # 평균 구하기"
      ],
      "metadata": {
        "id": "x2ByZpJt2whw"
      },
      "execution_count": null,
      "outputs": []
    },
    {
      "cell_type": "markdown",
      "source": [
        "###  리스트 관련 내장 함수\n",
        "* 리스트 자료를 유연하게 조작가능\n",
        "* append(),  extend(),remove(),  sort(), join() 함수"
      ],
      "metadata": {
        "id": "fRoQT15c3kba"
      }
    },
    {
      "cell_type": "code",
      "source": [
        "lst_string = [\"하니\", \"해린\", \"민지\", \"혜인\", \"다니엘\"]\n",
        "\n",
        "# append: 리스트 맨 뒤에 새로운 요소 추가. 빈 리스트와 궁합. 중요한 함수\n",
        "lst_string.append(\"민희진\")\n",
        "\n",
        "# remove: 리스트에서 특정 요소 제거\n",
        "lst_string.remove(\"민희\")\n",
        "\n",
        "# extend: 리스트 확장. 리스트 맨 뒤에 요소가 아니라 리스트를 추가.\n",
        "lst_string.extend([\"버니즈1\", \"버니즈2\", \"버니즈3\"])\n",
        "lst_string + [\"버니즈1\", \"버니즈2\", \"버니즈3\"]\n",
        "\n",
        "\n",
        "# sort: 리스트 정렬하기(오름차순, 내림차순)\n",
        "lst_string.sort()             # 오름차순으로\n",
        "lst_string.sort(reverse=True) # 내림차순으로\n",
        "\n",
        "# join: 리스트 요소들을 합치기. 리스트가 문자열로 변환됨.\n",
        "\"/\".join(lst_string) # (\",\") 해볼것\n"
      ],
      "metadata": {
        "id": "G9_HruRP3_Xc"
      },
      "execution_count": null,
      "outputs": []
    },
    {
      "cell_type": "markdown",
      "source": [
        "## 튜플(tuple)\n",
        "\n",
        "*   소괄호(( ))로 감싸 주고, 각 요소는 쉼표(,)로 구분\n",
        "\n",
        "*   리스트와 비슷\n",
        "\n",
        "*   그러나 ** 리스트와 달리 ** 그 자체의 요소의 생성, 삭제, 수정이 불가능!!!\n",
        "\n",
        "*   처리 속도가 리스트 보단 빠르고 데이터 변경 원하지 않을 때 유용"
      ],
      "metadata": {
        "id": "Oz9TVPDL5SfO"
      }
    },
    {
      "cell_type": "code",
      "source": [
        "# 비어있는 튜플 생성\n",
        "tp_null = ()\n",
        "\n",
        "#  요소가 하나만 튜플을 만들 때는 요소 뒤에 쉼표\n",
        "tp_1 = (1,)\n",
        "\n",
        " # 다섯 개의 요소를 가진 튜플 (괄호를 생략해도 생성)\n",
        "tp_string = (\"하니\", \"해린\", \"민지\", \"혜인\", \"다니엘\")\n",
        "tp_numeric = (162, 165, 169, 170, 165)\n"
      ],
      "metadata": {
        "id": "rcxePQsj5V3X"
      },
      "execution_count": null,
      "outputs": []
    },
    {
      "cell_type": "markdown",
      "source": [
        "### 튜플 연산\n",
        "\n",
        "* (문자열과 리스트처럼) 이어붙이기와 반복해서 입력 가능"
      ],
      "metadata": {
        "id": "dz8sIRq-5xZk"
      }
    },
    {
      "cell_type": "code",
      "source": [
        "#더하기\n",
        "tp_string + tp_numeric\n",
        "\n",
        "# 곱하기 > 연산후에 여전히 원래 튜플은 변하지 않음\n",
        "tp_string * 2"
      ],
      "metadata": {
        "id": "WpRpO2Lc5zHf"
      },
      "execution_count": null,
      "outputs": []
    },
    {
      "cell_type": "markdown",
      "source": [
        "### 튜플 인덱싱과 슬라이싱"
      ],
      "metadata": {
        "id": "DlVwVcsA6NuH"
      }
    },
    {
      "cell_type": "code",
      "source": [
        "tp_string[2]\n",
        "tp_string[1:5]"
      ],
      "metadata": {
        "id": "wbtKJryX6URp"
      },
      "execution_count": null,
      "outputs": []
    },
    {
      "cell_type": "markdown",
      "source": [
        "  ### 튜플 요소 수정하기(그 자체로는 불가능!!!)"
      ],
      "metadata": {
        "id": "Om2Sg1yz6nHJ"
      }
    },
    {
      "cell_type": "code",
      "source": [
        " # 수정 불가 - 에러 발생: 리스트와는 다름!\n",
        "\n",
        "del tp_string[4]\n",
        "tp_numeric[0] = 163\n",
        "tp_string[2] = \"장원영\""
      ],
      "metadata": {
        "id": "qLoTEY3T6h3a"
      },
      "execution_count": null,
      "outputs": []
    },
    {
      "cell_type": "markdown",
      "source": [
        "### 튜플을 수정하려면 3단계나 필요함 (수정하지 맙시다^^)"
      ],
      "metadata": {
        "id": "1Ktv7OQh7cPk"
      }
    },
    {
      "cell_type": "code",
      "source": [
        "### 참고: 튜플 자체을 수정하려면?\n",
        "#  세 단계가 필요함:\n",
        "# 1)튜플을 리스트로 변환 -> 2)리스트 요소를 수정 -> 3)다시 리스트를 튜플로 변환\n",
        "\n",
        "tp_string = (\"하니\", \"해린\", \"민지\", \"혜인\", \"다니엘\")\n",
        "\n",
        "# 튜플을 리스트로 변환\n",
        "lst_string = list(tp_string)\n",
        "\n",
        "# 리스트에서 원하는 요소를 수정\n",
        "lst_string[2] = \"장원영\"\n",
        "\n",
        "# 다시 리스트를 튜플로 변환\n",
        "tp_string = tuple(lst_string)\n",
        "\n",
        "print(tp_string)"
      ],
      "metadata": {
        "id": "hW70HNhg7S0r"
      },
      "execution_count": null,
      "outputs": []
    },
    {
      "cell_type": "markdown",
      "source": [
        "## 사전(dictionary) - 딕셔너리\n",
        "\n",
        "*   키(key)와 값(value)을 한 쌍(대응관계)으로 갖는 자료형(예, '키:값')\n",
        "\n",
        "*   키: 딕셔너리의 키는 하나만 될 수 있으며, 고유해야 함(판다스에서는 키가 변수가 됨)\n",
        "\n",
        "*   값: 딕셔너리의 값은 리스트, 튜플, 집합, 문자열, 숫자형, 불리언 등 다양한 자료형이 될 수 있음\n",
        "\n",
        "*   사전 생성: 중괄호({  })로 감싸 주고, 각 요소는 쉼표(,)로 구분\n",
        "\n",
        "*   인덱스가 아닌, 키를 통해 값을 빠르게 검색 가능\n",
        "\n",
        "*   데이터의 삽입, 삭제, 검색이 빈번하게 필요할때 유용"
      ],
      "metadata": {
        "id": "rfRZ0Nq87Kp1"
      }
    },
    {
      "cell_type": "markdown",
      "source": [
        "### 사전의 형식과 사전 생성하기\n",
        "* 키(하나): 값(하나 이상)\n"
      ],
      "metadata": {
        "id": "q1D3MotA74Cv"
      }
    },
    {
      "cell_type": "code",
      "source": [
        "# 딕셔너리의 값(value)은 다양한 자료형이 될 수 있음\n",
        "\n",
        "dct1 = {'키': [162, 165, 169, 170, 165]} # 리스트\n",
        "dct2 = {'좌표': (10, 20)} # 튜플\n",
        "dct3 = {'학과': {'컴퓨터', '전자'}} # 집합\n",
        "dct4 = {'이름': '홍길동'} # 문자열\n",
        "dct5 = {'나이': 30} # 숫자형\n",
        "dct6 = {'성인': True} #불형"
      ],
      "metadata": {
        "id": "BYFJ0asa8IeS"
      },
      "execution_count": null,
      "outputs": []
    },
    {
      "cell_type": "code",
      "source": [
        "#  사전 생성하기\n",
        "dct = {} # 빈 사전생성\n",
        "type(dct)\n",
        "\n",
        "#  키와 값을 각각 쌍으로 묶어 사전을 만든 후 dct에 할당\n",
        "#  \"한국\", \"미국\", \"중국\" 는 key에 해당\n",
        "#  \"서울\", \"워싱턴\", \"베이징\"는 value에 해당\n",
        "dct = {\"한국\":\"서울\", \"미국\":\"워싱턴\", \"중국\":\"베이징\"}\n"
      ],
      "metadata": {
        "id": "m1Tpva3E7Psh"
      },
      "execution_count": null,
      "outputs": []
    },
    {
      "cell_type": "code",
      "source": [
        "# value 값이 리스트가 될 수 있음\n",
        "\n",
        "dct1 = {'키':[162, 165, 169, 170, 165]}\n",
        "dct1"
      ],
      "metadata": {
        "id": "_vSoZAa18iNC"
      },
      "execution_count": null,
      "outputs": []
    },
    {
      "cell_type": "markdown",
      "source": [
        "### 사전 요소 출력\n",
        "* 사전이름.keys(), 사전이름.values(), 사전이름.items()"
      ],
      "metadata": {
        "id": "2sUE-WKc8ywR"
      }
    },
    {
      "cell_type": "code",
      "source": [
        "dct.keys()     # dct라는 사전의 모든 key 출력\n",
        "# 그런데 in 을 사용할때는 keys()를 사용안해도 된다. 예를 들어  if country in dct: = if country in dct.keys()\n",
        "dct.values()   # dct라는 사전의 모든 value 출력\n",
        "dct.items()    # dct라는 사전의 모든 key, value 쌍 출력"
      ],
      "metadata": {
        "id": "9swcG_xq86f3"
      },
      "execution_count": null,
      "outputs": []
    },
    {
      "cell_type": "markdown",
      "source": [
        "### 사전 인덱싱"
      ],
      "metadata": {
        "id": "XcgPycq69IGx"
      }
    },
    {
      "cell_type": "code",
      "source": [
        "# 사전의 인덱싱.\n",
        "# dct라는 사전에서 \"한국\"이라는 key에 해당하는 value 호출. \"서울\"이 나타날 것으로 예상.\n",
        "dct[\"한국\"]\n",
        "\n",
        "# dct라는 사전에서 \"일본\"이라는 key에 해당하는 value 호출. 에러 발생 예상 - KeyError: '일본'.\n",
        "dct[\"일본\"]     # 사전의 인덱싱.\n"
      ],
      "metadata": {
        "id": "YVYiMHtz9KAI"
      },
      "execution_count": null,
      "outputs": []
    },
    {
      "cell_type": "markdown",
      "source": [
        "### 사전 요소 수정하기와 삭제하기\n",
        "*   사전에 새로운 요소 추가\n",
        "*   사전의 요소 삭제(del() 함수 사용)\n",
        "*   사전의 기존 요소를 수정"
      ],
      "metadata": {
        "id": "i0EIxdzd9C4F"
      }
    },
    {
      "cell_type": "code",
      "source": [
        "# dct라는 사전에서 \"영국\"이라는 key에 해당하는 \"런던\" value 를 쌍으로 추가.\n",
        "dct[\"영국\"]=\"런던\"\n",
        "dct\n",
        "\n",
        "# dct라는 사전에서 \"영국\"과 \"런던\" 키와 값 쌍을 삭제\n",
        "del dct[\"영국\"]\n",
        "dct\n",
        "\n",
        "# dct라는 사전에서 \"한국\"이라는 key에 해당하는 \"대전\" value 로 수정.\n",
        "dct[\"한국\"]=\"대전\"\n",
        "dct\n"
      ],
      "metadata": {
        "id": "XSkgisvr9uyN"
      },
      "execution_count": null,
      "outputs": []
    },
    {
      "cell_type": "markdown",
      "source": [
        "### 특정 키(변수)가 사전 안에 있는지 확인하기\n",
        "* in 연산자 사용 - True 혹은  False 반환"
      ],
      "metadata": {
        "id": "izcG04pm9qBC"
      }
    },
    {
      "cell_type": "code",
      "source": [
        "# 해당 Key가 사전 안에 있는지 조사하기\n",
        "\n",
        "# \"미국\" 키가 dct 사전에 있니? True나 False 값 출력을 예상\n",
        "'미국' in dct\n",
        "'일본' in dct"
      ],
      "metadata": {
        "id": "E2yyTFso-wZD"
      },
      "execution_count": null,
      "outputs": []
    },
    {
      "cell_type": "markdown",
      "source": [
        "## 집합(set)\n",
        "\n",
        "\n",
        "*   집합 자료형 생성: set()를 사용하여 생성 - 문자열이나 리스트를 입력하여 만들수 있음\n",
        "\n",
        "*   중괄호({ })로 감싸 주고, 각 요소는 쉼표(,)로 구분\n",
        "\n",
        "*   리스트와 유사하지만, 중복을 허용하지 않고,  오름차순으로 강제 정리\n",
        "\n"
      ],
      "metadata": {
        "id": "ekzHTfUy_Jxd"
      }
    },
    {
      "cell_type": "code",
      "source": [
        "st_null = {} # 빈 집합 생성?\n",
        "type(st_null)\n",
        "\n",
        "st = set() # 빈 집합 생성?\n",
        "type(st)\n",
        "\n",
        "st1 = set([162, 165, 169, 170, 165]) # 숫자 리스트를 이용하여 집합 생성\n",
        "print(st1)\n",
        "\n",
        "st2 = set([\"하니\", \"해린\", \"민지\", \"혜인\", \"다니엘\"]) # 문자열 리스트를 이용하여 집합 생성\n",
        "print(st2)\n",
        "\n",
        "st3 = set(\"Minji\") # 문자열을 이용하여 집합 생성\n",
        "print(st3)\n",
        "\n",
        "st_numeric = {162, 165, 169, 170, 165} # 숫자 리스트 집합\n",
        "st_string = {\"하니\", \"해린\", \"민지\", \"혜인\", \"다니엘\"} # 문자열 리스트 집합\n",
        "\n",
        "lst_string = [\"하니\", \"해린\", \"민지\", \"혜인\", \"다니엘\", \"하니\"]\n",
        "\n",
        "st_string_1 = set(lst_string) # 리스트를 쉽게 집합으로 전환\n",
        "lst_string_1= list(st_string_1) # 집합을 다시 리스트로  전환"
      ],
      "metadata": {
        "id": "CvqX4iXQ_N37"
      },
      "execution_count": null,
      "outputs": []
    },
    {
      "cell_type": "markdown",
      "source": [
        "### 집합 자료형 연산: 교집합, 합집합, 차집합 구하기\n"
      ],
      "metadata": {
        "id": "97RelN0F_W6j"
      }
    },
    {
      "cell_type": "code",
      "source": [
        "뉴진스 = {\"하니\", \"해린\", \"민지\", \"혜인\", \"다니엘\", \"방시혁\"}\n",
        "BTS = {\"RM\", \"진\", \"슈가\", \"제이홉\", \"지민\", \"뷔\", \"정국\", \"방시혁\"}\n",
        "\n",
        "뉴진스 & BTS # 교집합\n",
        "\n",
        "뉴진스 | BTS # 합집합\n",
        "\n",
        "뉴진스 - BTS # 차집합"
      ],
      "metadata": {
        "id": "P__tdn7V_YcO"
      },
      "execution_count": null,
      "outputs": []
    },
    {
      "cell_type": "markdown",
      "source": [
        "### 집합 요소 수정하고 삭제하기\n",
        "\n",
        "*  요소 추가하기: add()-한 개의 값추가, update() - 여러 요소 추가\n",
        "\n",
        "*  요소 제거하기: remove()"
      ],
      "metadata": {
        "id": "cTTj-s3h_cP_"
      }
    },
    {
      "cell_type": "code",
      "source": [
        "st_string_2 = {\"하니\", \"해린\", \"민지\", \"혜인\", \"다니엘\"}\n",
        "st_string_2.add(\"카리나\")\n",
        "\n",
        "st_numeric_2 = {162, 165, 169, 170, 165}\n",
        "st_numeric_2.update([172, 175]) #리스트 형식으로 여러요소 추가\n",
        "\n",
        "st_string_2.remove(\"카리나\")"
      ],
      "metadata": {
        "id": "1P-O07-4_dk5"
      },
      "execution_count": null,
      "outputs": []
    },
    {
      "cell_type": "markdown",
      "source": [
        "### 집합을 이용해 중복된 요소 정리"
      ],
      "metadata": {
        "id": "_oUbqHxo_R8k"
      }
    },
    {
      "cell_type": "code",
      "source": [
        "member = [\"하니\", \"해린\", \"민지\", \"혜인\", \"다니엘\", \"하니\", \"해린\", \"하니\", \"해린\"]\n",
        "\n",
        "member_1=list(set(member))      # 중복 정리\n",
        "member_1.sort()                 # 오름차순 정리"
      ],
      "metadata": {
        "id": "27GUCw_R_VC3"
      },
      "execution_count": null,
      "outputs": []
    },
    {
      "cell_type": "markdown",
      "source": [
        "# 제어문(if, for, while 문)\n",
        "\n",
        "*  제어문: 특정조건에 따라 코드가 실행되는 순서와 조건을 결정하는 구문\n",
        "* 대표적인 제어문: if 문, while 문, for문\n",
        "* 특정 조건이 참일 때만(if문), 반복문을 통해 요소들 전체(for문)에 대해, 또는 특정 상황이 지속되는 동안(while문)만, 코드가 실행되도록 만듬\n",
        "* 이렇듯 문장들이 프로그램의 흐름을 제어하기 때문에 제어문이라고 함\n"
      ],
      "metadata": {
        "id": "3IjKaxW8ThLN"
      }
    },
    {
      "cell_type": "markdown",
      "source": [
        "## if 문(조건문)\n",
        "\n",
        "*   if문: 특정 조건의 참(True)과 거짓(False)에 따라 코드의 실행 경로 결정\n",
        "\n",
        "*   if - else - 또는 if - elif - else - 방식으로 표기\n",
        "\n",
        "*   elif(else if) - 선행 if 조건에 맞지 않는 경우에 실행을 요구\n",
        "\n",
        "*   else는 앞서 모든 조건에 맞지 않는 경우에 실행 요구\n",
        "\n",
        "*   비교 연산자 및 논리 연산자 활용(예, <, >, ==. !=, 1=, >=, <=, and, or not 등)\n",
        "\n",
        "*   in과 not in 도 많이 사용\n",
        "\n",
        "*   콜론(:)과 들여쓰기(indentation) 유의: 공백(spacebar) 4개 권장\n",
        "\n",
        "![image.png](data:image/png;base64,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)"
      ],
      "metadata": {
        "id": "9yXUhbFkT6Ta"
      }
    },
    {
      "cell_type": "markdown",
      "source": [
        "### 기본 if - else 문"
      ],
      "metadata": {
        "id": "zJOAViIXV2Fh"
      }
    },
    {
      "cell_type": "code",
      "source": [
        "# if문:  members 리스트에 \"하니\"라는 이름이 포함되어 있는지를 확인한 후, 그 결과에 따라 다른 메시지를 출력하는 코드\n",
        "\n",
        "\n",
        "members = [\"하니\", \"해린\", \"민지\", \"혜인\", \"다니엘\"]\n",
        "\n",
        "if \"하니\" in members: #in 연산자는 리스트, 문자열 등에서 특정 요소의 존재 여부를 확인하는 데 사용\n",
        "    print(\"하니는 뉴진스 멤버입니다\")\n",
        "else:\n",
        "    print(\"하니는 뉴진스 멤버가 아닙니다\")\n"
      ],
      "metadata": {
        "id": "CJmBx-GIUjjC"
      },
      "execution_count": null,
      "outputs": []
    },
    {
      "cell_type": "markdown",
      "source": [
        "### if - elif - else 문"
      ],
      "metadata": {
        "id": "6zgpnKTLV7yO"
      }
    },
    {
      "cell_type": "code",
      "source": [
        "# if + 조건1:\n",
        "# elif + 조건2:\n",
        "\n",
        "# 변수 x의 값이 5보다 큰지, 0보다 작은지, 또는 그 외의 경우인지에 따라 다른 메시지를 출력\n",
        "\n",
        "x=3\n",
        "\n",
        "if x > 5:\n",
        "    print(f\"{x}은 5보다 크다\") # x가 5보다 크면, \"X는 5보다 크다\"를 출력\n",
        "elif x < 0:\n",
        "    print(f\"{x}은 음수이다\") # x가 0보다 작으면, \"X는 음수이다\"를 출력\n",
        "else:\n",
        "    print(f\"{x}은 0과 5 사이에 위치한다\") # 위의 어떤 경우에도 해당되지 않으면, \"X는 0과 5 사이에 위치한다\"를 출력"
      ],
      "metadata": {
        "id": "_nwnOFkqVkNj"
      },
      "execution_count": null,
      "outputs": []
    },
    {
      "cell_type": "markdown",
      "source": [
        "## 제어문(2) - for문(반복문)\n",
        "\n",
        "*   for문: 주어진 요소들 전체에 대해서 [코드 블록]이 반복적으로 실행 (예, **리스트 모든 요소**에 대해 반복문이 동작할 수 있도록 제어)\n",
        "\n",
        "*   in 뒤 리스트에서 지정된 요소를 순서대로 실행\n",
        "\n",
        "*   for-in- 방식으로 표기\n",
        "\n",
        "*   리스트 뿐만 아니라 튜플과 문자열에도 적용됨\n",
        "\n",
        "![image.png](data:image/png;base64,iVBORw0KGgoAAAANSUhEUgAAAMUAAAA1CAYAAADxqi/pAAAE+ElEQVR4Ae2dAdKcIAyFPZcH2vPsafYyexg6BJAQEgX8ta6+znRGRAI88kFAu50c/kABKFAoMBUpJKAAFHCAAk4ABYQCgEIIgiQUABTwASggFAAUQhAkoQCggA9AAaEAoBCCIAkFAAV8AAoIBQCFEARJKHBTKD7uNU1umib3+mCQj1Xg697z5Ob399hqTrR+Qyj+xyCFOj2Exd/57Xpd5fue3TRI8uc1DZetfc7oE/Xx5fJc06e3b2M7QGttYFoP6Fz3N9+5IRR+lZjdaRPX50UgaANNDt65Wu1x7D1ls0tsXH3fbp72QdEOfYBicI7Y6IidfT8oaNDOgqJh0Dw0zTNZCvvOar/tGGbOHiiorJ/hOVRmTc65Bn3Xig/mAYpB4UKxhlWpciK7Qj/T06zYBZJt75Ccqj/BcbWVsqw/P9ceIoYyRUgqQ9SpJxwrW2SlbgVFCleyiGxGWmapHIvKZZnK+1k9hkTby3yY2aWdQmyyxdpRZOZEFWsPgCHDp2Sz0KV51cptK64GoZBtawNjdKWIMA329VZQ0ODRoInwIzp54bwREj7DLc5TPFi4RJ2Itrmd9FCyt2pOa1s24OaOPYl0PIJintnGNjrLaoOWyulUKU8weTIpw59gU+s/WVJ0TjW4tb6HwtSGpuYuRv0FoCjkcBUUK4NGg5Jn8eDEOV0aXknFwdUcaMtZ5GqkzaDk7A1waFBI++SITTNo0G3bIQ19Iwwt+ym7f9G5lZCp1HpgzFaG8/4rRQUJU0PkkUM2OQyz4S89FFU5w1lEUZnUoJDPWGkNigpKMRFYttJsOwyFbfjyOYCCHd8CCu6vO1cKburHru8PRYwvqxnTD5SY4QEF915AwdX47WsRElFnYsxfhAIx5uX32qFI7xP45rPlOsW+e8vrQ3RE+FTG7qKPJJ4WJu7t397yoU11SKvrJu8+YKWIXY4Q5EEWJ1T+zMJ/YlHtDaRk103/LRSt/dSgaC171HOA4ihlYbdJgStC0dRw86H7rRRmV5FxjAKA4hhdYRUKXEgBrBQXGgw05RoKAIprjANacSEFAMWFBgNNuYYCgGJoHPw5en2kG0yFjSd//yGroKNf+QD//EK8VOTl03dC+WhZvDvw3wlJ29wArjcVABSbEmkP/F8o1LfzsZkqcFoXcM9UAFCY0qxkxBeBunNqK0W4Z8/uL/fpWCn0ekN7AcXKuDVmAYpGofhj5Hj0ObMWQmlQ8NLGNaAwhDn/NqDo1ZycN8CQ4ChD+BUoqk9N2E/wkF22PzA+N8GeonfA+p8HFB2aBQjk6hA/Xluc2ICCgNDLElSNK0VHc/HooAKAolE4mqEXx18rBCjW1PmFPEBx5ihthk/x03K/ahQA7v2U+sxO/n5dgKJ7DMNKYJ8khX1Buc/orKSCwi6P0yZbm9EcQDGqnFnOCJ/E82mTXsMl9x28YLDNj2QBBdfnb64BRbeOe1eKWN5cSmKopOYDiu7hGigAKLpFC46p+myLLdpXpH+WahQww6caCsMCbu9QAFB0i7cTivRDXSZVYaXgIVJuIqDIWhx3BSi6tQ2OWe8F2Is3/7a7OD2qK9mzp9isu/kHjOt24Y7Dfy4PJ4ACUgGsFFIRpB+vAKB4vAtAAKkAoJCKIP14BQDF410AAkgFAIVUBOnHKwAoHu8CEEAqACikIkg/XgFA8XgXgABSAUAhFUH68Qr8AwQS7+qC3tveAAAAAElFTkSuQmCC)"
      ],
      "metadata": {
        "id": "4IxWtWTdWoP_"
      }
    },
    {
      "cell_type": "code",
      "source": [
        "# 예제0\n",
        "members = [\"하니\", \"해린\", \"민지\", \"혜인\", \"다니엘\"]\n",
        "\n",
        "print(members[0])\n",
        "print(members[1])\n",
        "print(members[2])\n",
        "print(members[3])\n",
        "print(members[4])"
      ],
      "metadata": {
        "id": "ROOgm20AXl1m"
      },
      "execution_count": null,
      "outputs": []
    },
    {
      "cell_type": "code",
      "source": [
        "# 예제1\n",
        "# for 루프를 사용하여 members 리스트에 포함된 각 멤버의 이름을 순회하며, 각 멤버를 출력하는 예제\n",
        "\n",
        "members = [\"하니\", \"해린\", \"민지\", \"혜인\", \"다니엘\"]\n",
        "for member in members: # 여기에서 member는 순회된 멤버둘의 이름을 각각 할당시키기위해 코더가 생성한 변수\n",
        "    print(member)"
      ],
      "metadata": {
        "id": "VLfQa71uWy3H"
      },
      "execution_count": null,
      "outputs": []
    },
    {
      "cell_type": "code",
      "source": [
        " # 예제2\n",
        " # for 루프를 사용하여 members 리스트에 포함된 각 멤버의 이름을 순회하며, 각 멤버가 뉴진스 멤버임을 출력하는 예제\n",
        "\n",
        "members = [\"하니\", \"해린\", \"민지\", \"혜인\", \"다니엘\"]\n",
        "for member in members:\n",
        "    print(f\"{member}는 뉴진스 멤버입니다\")"
      ],
      "metadata": {
        "id": "VjW48dg2X7ao"
      },
      "execution_count": null,
      "outputs": []
    },
    {
      "cell_type": "code",
      "source": [
        "# 예제 3\n",
        "# for 루프와 if-else 조건문을 사용하여 시험 리스트에 포함된 각 점수를 평가하고,\n",
        "# 그 점수가 80점 이상이면 \"귀가\"를, 그렇지 않으면 \"재시\"를 출력하라\n",
        "\n",
        "시험점수 = [95, 55, 71, 83]\n",
        "\n",
        "for 개별점수 in 시험점수: # 여기에서 '개별점수'는 순회된 시험점수들의 각각을 할당시키기위해 코더가 생성한 변수\n",
        "    if 개별점수 >= 80:\n",
        "        print(\"귀가\")\n",
        "    else:\n",
        "        print(\"재시\")\n"
      ],
      "metadata": {
        "id": "BJ39R8G2Xgjg"
      },
      "execution_count": null,
      "outputs": []
    },
    {
      "cell_type": "code",
      "source": [
        "# 예제 4 (중요함)\n",
        "# for문을 사용해서 '시험점수' 리스트를 평가하여 \"귀가\" 또는 \"재시\"를 새로운 '성적평가' 리스트로 결과를 반환하라\n",
        "# 힌트: 새로운 '성적평가'리스트를 생성하고, 각각 시험점수에 매칭되는 \"귀가\" 또는 \"재시\"를 그 리스트에 추가할 append() 함수를 사용하라\n",
        "\n",
        "\n",
        "시험점수 = [95, 55, 71, 83]\n",
        "성적평가 = []\n",
        "\n",
        "for 개별점수 in 시험점수:# 여기에서 '개별점수'는 순회된 시험점수들의 각각을 할당시키기위해 코더가 생성한 변수\n",
        "    if 개별점수 >= 80:\n",
        "        성적평가.append(\"귀가\")\n",
        "    else:\n",
        "        성적평가.append(\"재시\")\n",
        "\n",
        "# 평가 리스트에 결과가 담깁니다. 예상 정적평가 리스트는 ['귀가', '재시', '재시', '귀가']\n",
        "print(성적평가)\n",
        "\n"
      ],
      "metadata": {
        "id": "cG6MapiSZGut"
      },
      "execution_count": null,
      "outputs": []
    },
    {
      "cell_type": "markdown",
      "source": [
        "### 리스트 컴프리헨션(List comprehension)\n",
        "* 리스트 내에서 for문 실행하여 기존 리스트를 다른 리스트로 재구성하는 것\n",
        "* 생성형 AI에서 리스트 컴프리헨션 코드를 종종 제공함\n",
        "* 익숙해지면 위의 for문 + if-else + append() 함수 사용하는 것보다 훨씬 간편함"
      ],
      "metadata": {
        "id": "8JMhHwU0cCs1"
      }
    },
    {
      "cell_type": "code",
      "source": [
        "# 예제 5(중요함)\n",
        "# 리스트 컴프리헨션을 사용해서 점수 리스트를 평가하여 \"합격\" 또는 \"불합격\"을 리스트로 결과를 반환하는 예제\n",
        "\n",
        "시험점수 = [95, 55, 71, 83]\n",
        "\n",
        "성적평가  = [\"귀가\" if 개별점수 >= 80 else \"재시\" for 개별점수 in 시험점수]\n",
        "\n",
        "# 시험점수 리스트에서 성적평가 리스트로 재구성됩니다\n",
        "# 성적평가 리스트에 재시 혹은 귀가 여부가 새로 할당됩니다. 예상: ['귀가', '재시', '재시', '귀가']\n",
        "print(성적평가)"
      ],
      "metadata": {
        "id": "SkzrOxu5b_Qn"
      },
      "execution_count": null,
      "outputs": []
    },
    {
      "cell_type": "markdown",
      "source": [
        "## 함수(function)\n",
        "\n",
        "*   입력값을 받아 어떤 일을 실행한 후 그 결과물을 내어놓는 것\n",
        "\n",
        "*   예) y = 2x + 1 함수는 x라는 input, y라는 output을 내놓음\n",
        "\n",
        "*   예) 과일(입력값) > 믹서기(함수) > 주스(결과값)\n",
        "\n",
        "*   반복되는 코드를 작성해서 반복작업을 효율적으로 처리하고 그 코드를 재사용 하고 싶을때 사용\n",
        "\n",
        "*   프로그램 흐름 파악과 오류 탐지에 유용\n",
        "\n",
        "*   사용형식에서 콜론과 들여쓰기 중요함\n",
        "\n",
        "*   아래 함수의 구조 참조\n",
        "\n",
        "![image.png](data:image/png;base64,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)"
      ],
      "metadata": {
        "id": "Ua36uAlxq6fW"
      }
    },
    {
      "cell_type": "markdown",
      "source": [
        "*   def: 함수 정의할때 사용하는 키워드\n",
        "\n",
        "*   매개변수(parameter): 함수에 입력으로 전달될 값을 받는 변수\n",
        "\n",
        "*   인자(arguments): 함수를 호출할 때 전달하는 입력값"
      ],
      "metadata": {
        "id": "RddIVGXFq_Zo"
      }
    },
    {
      "cell_type": "code",
      "source": [
        "# 함수의 기본 구조 예제1\n",
        "\n",
        "def add(x, y): # def는 함수 정의할때 사용하는 키워드, add는 함수명,  x, y는 매개변수(입력변수)\n",
        "    result = x + y # 실행문: result는 결과값\n",
        "    return result  # 결과값을 반환하라\n",
        "\n",
        "add(3,5) # add() 함수 선언하고 인자 3, 5를 집어 넣음, add() 괄호안에 커서 놓으면 위 설명문이 표시됨\n",
        "\n",
        "add(x = 3, y = 5)\n"
      ],
      "metadata": {
        "id": "HPWPdZ46reim"
      },
      "execution_count": null,
      "outputs": []
    },
    {
      "cell_type": "code",
      "source": [
        "# # 함수의 기본 구조 예제2\n",
        "# 뉴진스 멤버 판독 함수 만들기: 어떤 이름을 입력했을때 멤버인지 여부를 출력하는 함수를 만들어라\n",
        "\n",
        "members = [\"하니\", \"해린\", \"민지\", \"혜인\", \"다니엘\"]\n",
        "\n",
        "def 뉴진스_member_detect(name):\n",
        "    if name in members:\n",
        "        result = f\"{name}는 뉴진스 멤버입니다\" # 문자열 출력하지 않고 직접 반환\n",
        "    else:\n",
        "        result = f\"{name}는 뉴진스 멤버가 아닙니다\"\n",
        "    return result\n",
        "\n",
        "# 뉴진스_member_detect() - 이 경우는 입력값이 없으니 에러발생\n",
        "뉴진스_member_detect(\"민희진\")"
      ],
      "metadata": {
        "id": "FaD-kNDzrQ9n"
      },
      "execution_count": null,
      "outputs": []
    },
    {
      "cell_type": "markdown",
      "source": [
        "# 파일 쓰기와 불러오기(txt 파일)"
      ],
      "metadata": {
        "id": "m8Is7K2GidgB"
      }
    },
    {
      "cell_type": "markdown",
      "source": [
        "## 1. 파일 다루기 개요\n",
        "\n",
        "*   파일 처리는 프로그래밍에서 중요한 작업\n",
        "\n",
        "*   텍스트 파일을 쓰고 저장하는 방법과, 저장된 파일을 불러와 읽는 방법"
      ],
      "metadata": {
        "id": "oE-cB_4jil5w"
      }
    },
    {
      "cell_type": "markdown",
      "source": [
        "### 2. 파일 쓰기와 저장하기\n",
        "\n",
        "*   파일 쓰기: 텍스트 데이터를 파일에 저장하기 위해서는 open() 함수를 사용하여 파일을 열고, write() 메서드를 사용해 내용을 씀\n",
        "\n",
        "*   파일을 다 쓴 후에는 자동으로 파일을 닫아주는 with 구문을 사용하는 것이 좋음"
      ],
      "metadata": {
        "id": "UAZAVK4oih7J"
      }
    },
    {
      "cell_type": "code",
      "source": [
        "# 파일 쓰고 저장하기\n",
        "# with 구문을 사용하면 블록이 끝날 때 자동으로 파일이 닫힘\n",
        "\n",
        "mytext = \"하니, 해린, 민지, 혜인, 다니엘\" # mytext 변수에 문자열 데이터를 저장\n",
        "with open(\"/content/drive/MyDrive/mypython/test.txt\",\"w\") as f: #open() 함수로 \"test.txt\" 파일을 생성하거나 열어서, 파일 **쓰기 모드(\"w\")**로 열겠다는 의미. f는 열린 파일을 나타내는 파일 객체\n",
        "   f.write(mytext) # mytext 변수에 저장된 문자열을  test.txt 파일(=f 파일객체)에 그대로 씀\n",
        "\n"
      ],
      "metadata": {
        "id": "DHPEUCehivoS"
      },
      "execution_count": null,
      "outputs": []
    },
    {
      "cell_type": "markdown",
      "source": [
        "### 3. 파일 불러와서 읽기\n",
        "\n",
        "*   파일 읽기: 저장된 파일의 내용을 불러오려면, 파일을 읽기 모드(\"r\")로 열고, read() 메서드를 사용하여 내용을 읽어옴"
      ],
      "metadata": {
        "id": "2hBH75V3iy4D"
      }
    },
    {
      "cell_type": "code",
      "source": [
        "# 파일 불러와서 읽기\n",
        "with open(\"/content/drive/MyDrive/mypython/test.txt\", \"r\") as f: # open() 함수로 \"test.txt\" 파일을 **읽기 모드(\"r\")**로 염.f는 열린 파일을 나타내는 파일 객체\n",
        "    mytext1 = f.read() #f.read()를 통해 test.text 파일(=f 파일객체)의 모든 내용을 읽어와 mytext1 변수에 저장\n",
        "\n",
        "print(mytext1) #저장된 텍스트를 출력"
      ],
      "metadata": {
        "id": "ZoehjvGmi2KK"
      },
      "execution_count": null,
      "outputs": []
    },
    {
      "cell_type": "markdown",
      "source": [
        "# 웹 페이지에서 베스트셀러 책의 제목을 추출하는 웹 크롤링 코드\n",
        "* **requests**와 **BeautifulSoup** 라이브러리를 사용"
      ],
      "metadata": {
        "id": "2YE40-asjlPf"
      }
    },
    {
      "cell_type": "code",
      "source": [
        "pip install requests # 웹 페이지에 요청을 보내서 HTML 데이터를 받아오는 역할"
      ],
      "metadata": {
        "id": "sB8LoYDajq9W"
      },
      "execution_count": null,
      "outputs": []
    },
    {
      "cell_type": "code",
      "source": [
        "pip install BeautifulSoup4 # 받아온 HTML 데이터를 파싱(즉, 분석하여 필요한 부분을 추출)하는 역할"
      ],
      "metadata": {
        "id": "48dT-K2Rjtsc"
      },
      "execution_count": null,
      "outputs": []
    },
    {
      "cell_type": "code",
      "source": [
        "import requests\n",
        "from bs4 import BeautifulSoup\n",
        "\n",
        "# URL 변수에 크롤링할 Yes24 베스트셀러 페이지의 URL을 저장\n",
        "URL ='https://www.yes24.com/Product/Category/BestSeller?categoryNumber=001&pageNumber=1&pageSize=24'\n",
        "\n",
        "# 해당 웹 페이지의 HTML 데이터를 요청하여 가져\n",
        "html = requests.get(URL)\n",
        "\n",
        " #*html.text**로 받은 HTML 코드 전체를 파싱(분석하여 필요한 부분을 추출)\n",
        "soup = BeautifulSoup(html.text,'html.parser') # 'html.parser': HTML 코드를 이해할 수 있는 포맷으로 변환하는 도구\n",
        "\n",
        "\n",
        "books = soup.find_all('div', class_='itemUnit') # HTML에서 div 태그 중에서 클래스가 'itemUnit'인 부분을 모두 찾아서 books 리스트에 저장. div.itemUnit 부분에는 각 책의 정보가 포함\n",
        "for book in books:\n",
        "    print(book.find('a', class_='gd_name').text) # 각 책에서 책 제목이 들어있는 a 태그(클래스 'gd_name')를 찾아 그 텍스트(책 제목)를 추출"
      ],
      "metadata": {
        "id": "WWVvO-WjjwLs"
      },
      "execution_count": null,
      "outputs": []
    },
    {
      "cell_type": "markdown",
      "source": [],
      "metadata": {
        "id": "2L_RsKucjnYc"
      }
    }
  ]
}